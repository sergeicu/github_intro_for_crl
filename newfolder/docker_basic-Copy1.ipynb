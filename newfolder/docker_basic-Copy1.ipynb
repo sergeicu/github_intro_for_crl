{
 "cells": [
  {
   "cell_type": "markdown",
   "metadata": {},
   "source": [
    "# Basic checks "
   ]
  },
  {
   "cell_type": "code",
   "execution_count": null,
   "metadata": {},
   "outputs": [],
   "source": [
    "# check if docker is running \n",
    "systemctl status docker # you may need to prepend 'sudo'"
   ]
  },
  {
   "cell_type": "code",
   "execution_count": null,
   "metadata": {},
   "outputs": [],
   "source": [
    "# list all your images \n",
    "docker image ls "
   ]
  },
  {
   "cell_type": "markdown",
   "metadata": {},
   "source": [
    "# download generic dockers and take a look inside "
   ]
  },
  {
   "cell_type": "code",
   "execution_count": null,
   "metadata": {},
   "outputs": [],
   "source": [
    "# try downloading these \n",
    "docker pull ubuntu \n",
    "docker pull centos \n",
    "docker pull alpine "
   ]
  },
  {
   "cell_type": "code",
   "execution_count": null,
   "metadata": {},
   "outputs": [],
   "source": [
    "# check list of your downloaded dockers \n",
    "docker images "
   ]
  },
  {
   "cell_type": "code",
   "execution_count": null,
   "metadata": {},
   "outputs": [],
   "source": [
    "# look inside docker \n",
    "docker run -it --rm ubuntu /bin/bash "
   ]
  },
  {
   "cell_type": "code",
   "execution_count": null,
   "metadata": {},
   "outputs": [],
   "source": [
    "# look around \n",
    "ls \n",
    "pwd \n",
    "ls /bin\n",
    "mkdir /data/ \n",
    "ls /data\n",
    "uname -a\n",
    "cat /etc/os-release\n",
    "hostname \n",
    "exit "
   ]
  },
  {
   "cell_type": "code",
   "execution_count": null,
   "metadata": {},
   "outputs": [],
   "source": [
    "# perform a command without entering the container  \n",
    "docker run -it --rm ubuntu /bin/ls /\n",
    "docker run -it --rm ubuntu /bin/ls /bin\n",
    "docker run -it --rm ubuntu /bin/cat /etc/os-release"
   ]
  },
  {
   "cell_type": "code",
   "execution_count": null,
   "metadata": {},
   "outputs": [],
   "source": [
    "# do the same with the other two dockers \n",
    "<>"
   ]
  },
  {
   "cell_type": "code",
   "execution_count": null,
   "metadata": {},
   "outputs": [],
   "source": [
    "# remove image \n",
    "docker rm image alpine \n",
    "# check list of images again \n",
    "docker images "
   ]
  },
  {
   "cell_type": "code",
   "execution_count": null,
   "metadata": {},
   "outputs": [],
   "source": [
    "# free up memory via prune "
   ]
  },
  {
   "cell_type": "markdown",
   "metadata": {},
   "source": [
    "# Download medical imaging related docker images"
   ]
  },
  {
   "cell_type": "code",
   "execution_count": null,
   "metadata": {},
   "outputs": [],
   "source": [
    "docker pull sergeicu/anima\n",
    "docker pull scitran/dcm2nii\n",
    "docker pull fetalsvrtk/svrtk"
   ]
  },
  {
   "cell_type": "code",
   "execution_count": null,
   "metadata": {},
   "outputs": [],
   "source": [
    "# feel free to look around inside each docker image \n",
    "# (by spinning out a container instance via 'docker run')"
   ]
  },
  {
   "cell_type": "markdown",
   "metadata": {},
   "source": [
    "# Run dcm2nii conversion \n"
   ]
  },
  {
   "cell_type": "code",
   "execution_count": null,
   "metadata": {},
   "outputs": [],
   "source": [
    "# cd into directory \n",
    "cd /fileserver/fastscratch/serge/mwf_data/single_patients/20210806/5409782/26197408/3_T2_TSE_AX_448_2MM_ND\n",
    "\n",
    "# map current directory to docker \n",
    "localfolder=${PWD}\n",
    "mkdir $localfolder/myoutput\n",
    "chmod -R ugo+rwx $localfolder \n",
    "docker run -it --rm -v $localfolder/:/flywheel/v0/input/dicom -v $localfolder/myoutput:/flywheel/v0/output scitran/dcm2nii "
   ]
  },
  {
   "cell_type": "markdown",
   "metadata": {},
   "source": [
    "# Run anima based registration "
   ]
  },
  {
   "cell_type": "code",
   "execution_count": null,
   "metadata": {},
   "outputs": [],
   "source": [
    "# cd into directory \n",
    "cd /fileserver/fastscratch/serge/s20211202_try_anima_reg\n",
    "\n",
    "\n",
    "# target files \n",
    "fixed=vol0045iso.nii.gz\n",
    "moving=vol0017iso.nii.gz\n",
    "\n",
    "# docker init\n",
    "name=sergeicu/anima:latest\n",
    "localfolder=/fileserver/fastscratch/serge/s20211202_try_anima_reg\n",
    "chmod -R ugo+rwx $localfolder\n",
    "docker run -it --rm -v $localfolder:/data $name /bin/bash \n",
    "\n",
    "# run inside docker \n",
    "/anima/animaDenseSVFBMRegistration -r /data/vol0045iso.nii.gz -m /data/vol0017iso.nii.gz -o /data/output.nii.gz -O /data/transform_nl.nii.gz -p 3 -l 0​\n",
    "\n"
   ]
  },
  {
   "cell_type": "markdown",
   "metadata": {},
   "source": [
    "# Run fetal svrtk"
   ]
  },
  {
   "cell_type": "code",
   "execution_count": null,
   "metadata": {},
   "outputs": [],
   "source": [
    "# Note difference between 'bind mount' (--mount) and 'map' (-v)"
   ]
  },
  {
   "cell_type": "code",
   "execution_count": null,
   "metadata": {},
   "outputs": [],
   "source": [
    "# check required input args\n",
    "docker run -it --rm fetalsvrtk/svrtk /home/MIRTK/build/bin/mirtk reconstructBody\n"
   ]
  },
  {
   "cell_type": "code",
   "execution_count": null,
   "metadata": {},
   "outputs": [],
   "source": [
    "# initialize docker \n",
    "targetd=/fileserver/fastscratch/serge/svrtk_test/\n",
    "localdir=$targetd/\n",
    "chmod -R ugo+rwx $localdir\n",
    "docker run -it --rm --mount type=bind,source=$localdir,target=/home/data fetalsvrtk/svrtk /bin/bash\n",
    "\n",
    "# run from within docker \n",
    "r=/home/data\n",
    "outdir=$r/output\n",
    "mkdir -p $outdir\n",
    "cd $outdir \n",
    "i1=../18.nii\n",
    "i2=../19.nii\n",
    "i3=../20.nii\n",
    "i4=../27.nii\n",
    "mask=../mask.nii.gz\n",
    "res=1.0625\n",
    "th=3\n",
    "mirtk reconstructBody $outdir/outputDSVR.nii.gz 4 $i1 $i2 $i3 $i4 -mask $mask -template $i4 -default -resolution $res -thickness $th\n",
    "\n",
    "\n"
   ]
  },
  {
   "cell_type": "markdown",
   "metadata": {},
   "source": [
    "# More advanced "
   ]
  },
  {
   "cell_type": "code",
   "execution_count": null,
   "metadata": {},
   "outputs": [],
   "source": [
    "# run a container without stopping it with '--rm'\n",
    "docker run -d =t ubuntu "
   ]
  },
  {
   "cell_type": "code",
   "execution_count": null,
   "metadata": {},
   "outputs": [],
   "source": [
    "# check list of active containers \n",
    "docker ps "
   ]
  },
  {
   "cell_type": "code",
   "execution_count": null,
   "metadata": {},
   "outputs": [],
   "source": [
    "# enter RUNNING container \n",
    "docker exec -it <name of active container> bash"
   ]
  },
  {
   "cell_type": "code",
   "execution_count": null,
   "metadata": {},
   "outputs": [],
   "source": [
    "# check list of ALL containers (running or not)\n",
    "docker ps -a "
   ]
  },
  {
   "cell_type": "code",
   "execution_count": null,
   "metadata": {},
   "outputs": [],
   "source": [
    "# kill container \n",
    "docker stop <active container name>"
   ]
  },
  {
   "cell_type": "code",
   "execution_count": null,
   "metadata": {},
   "outputs": [],
   "source": [
    "# DANGEROUS - remove active containers to free up memory \n",
    "docker container prune \n"
   ]
  },
  {
   "cell_type": "code",
   "execution_count": null,
   "metadata": {},
   "outputs": [],
   "source": [
    "# even more dangerous \n",
    "# 'google' docker 'prune' command to learn more how to free up large parts of memory "
   ]
  },
  {
   "cell_type": "code",
   "execution_count": null,
   "metadata": {},
   "outputs": [],
   "source": [
    "# Why 'prune'? \n",
    "# docker stores all images in /var/lib location on each machine independently. \n",
    "# sometimes this can clog up available memory significantly \n"
   ]
  }
 ],
 "metadata": {
  "kernelspec": {
   "display_name": "Python 3",
   "language": "python",
   "name": "python3"
  },
  "language_info": {
   "codemirror_mode": {
    "name": "ipython",
    "version": 3
   },
   "file_extension": ".py",
   "mimetype": "text/x-python",
   "name": "python",
   "nbconvert_exporter": "python",
   "pygments_lexer": "ipython3",
   "version": "3.8.6"
  }
 },
 "nbformat": 4,
 "nbformat_minor": 4
}
